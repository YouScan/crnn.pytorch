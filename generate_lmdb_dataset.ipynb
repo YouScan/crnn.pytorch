{
 "cells": [
  {
   "cell_type": "code",
   "execution_count": 2,
   "metadata": {},
   "outputs": [],
   "source": [
    "from generateDataset import *\n",
    "from glob import glob\n",
    "import json\n",
    "import random "
   ]
  },
  {
   "cell_type": "code",
   "execution_count": 3,
   "metadata": {},
   "outputs": [],
   "source": [
    "images = glob('../SynthText_copy/text_crops/*jpg')"
   ]
  },
  {
   "cell_type": "code",
   "execution_count": 4,
   "metadata": {},
   "outputs": [],
   "source": [
    "random.shuffle(images)"
   ]
  },
  {
   "cell_type": "code",
   "execution_count": 5,
   "metadata": {},
   "outputs": [],
   "source": [
    "N = int(len(images) * 0.9)"
   ]
  },
  {
   "cell_type": "code",
   "execution_count": 6,
   "metadata": {},
   "outputs": [],
   "source": [
    "train = images[: N]\n",
    "test = images[N:]"
   ]
  },
  {
   "cell_type": "code",
   "execution_count": 7,
   "metadata": {},
   "outputs": [],
   "source": [
    "def get_label(image_name):\n",
    "    with open(image_name.replace('jpg', 'txt'), encoding='utf-8') as f:\n",
    "        label = f.read().strip()\n",
    "    return label"
   ]
  },
  {
   "cell_type": "code",
   "execution_count": 8,
   "metadata": {},
   "outputs": [],
   "source": [
    "annotations_train =  [get_label(x) for x in train]\n",
    "annotations_test =  [get_label(x) for x in test]"
   ]
  },
  {
   "cell_type": "code",
   "execution_count": 9,
   "metadata": {},
   "outputs": [
    {
     "name": "stdout",
     "output_type": "stream",
     "text": [
      "Written 1000 / 67032\n",
      "Written 2000 / 67032\n",
      "Written 3000 / 67032\n",
      "Written 4000 / 67032\n",
      "Written 5000 / 67032\n",
      "Written 6000 / 67032\n",
      "Written 7000 / 67032\n",
      "Written 8000 / 67032\n",
      "Written 9000 / 67032\n",
      "Written 10000 / 67032\n",
      "Written 11000 / 67032\n",
      "Written 12000 / 67032\n",
      "Written 13000 / 67032\n",
      "Written 14000 / 67032\n",
      "Written 15000 / 67032\n",
      "Written 16000 / 67032\n",
      "Written 17000 / 67032\n",
      "Written 18000 / 67032\n",
      "Written 19000 / 67032\n",
      "Written 20000 / 67032\n",
      "Written 21000 / 67032\n",
      "Written 22000 / 67032\n",
      "Written 23000 / 67032\n",
      "Written 24000 / 67032\n",
      "Written 25000 / 67032\n",
      "Written 26000 / 67032\n",
      "Written 27000 / 67032\n",
      "Written 28000 / 67032\n",
      "Written 29000 / 67032\n",
      "Written 30000 / 67032\n",
      "Written 31000 / 67032\n",
      "Written 32000 / 67032\n",
      "Written 33000 / 67032\n",
      "Written 34000 / 67032\n",
      "Written 35000 / 67032\n",
      "Written 36000 / 67032\n",
      "Written 37000 / 67032\n",
      "Written 38000 / 67032\n",
      "Written 39000 / 67032\n",
      "Written 40000 / 67032\n",
      "Written 41000 / 67032\n",
      "Written 42000 / 67032\n",
      "Written 43000 / 67032\n",
      "Written 44000 / 67032\n",
      "Written 45000 / 67032\n",
      "Written 46000 / 67032\n",
      "Written 47000 / 67032\n",
      "Written 48000 / 67032\n",
      "Written 49000 / 67032\n",
      "Written 50000 / 67032\n",
      "Written 51000 / 67032\n",
      "Written 52000 / 67032\n",
      "Written 53000 / 67032\n",
      "Written 54000 / 67032\n",
      "Written 55000 / 67032\n",
      "Written 56000 / 67032\n",
      "Written 57000 / 67032\n",
      "Written 58000 / 67032\n",
      "Written 59000 / 67032\n",
      "Written 60000 / 67032\n",
      "Written 61000 / 67032\n",
      "Written 62000 / 67032\n",
      "Written 63000 / 67032\n",
      "Written 64000 / 67032\n",
      "Written 65000 / 67032\n",
      "Written 66000 / 67032\n",
      "Written 67000 / 67032\n",
      "Created dataset with 67032 samples\n",
      "Written 1000 / 7448\n",
      "Written 2000 / 7448\n",
      "Written 3000 / 7448\n",
      "Written 4000 / 7448\n",
      "Written 5000 / 7448\n",
      "Written 6000 / 7448\n",
      "Written 7000 / 7448\n",
      "Created dataset with 7448 samples\n"
     ]
    }
   ],
   "source": [
    "createDataset('train_sample', train, annotations_train)\n",
    "createDataset('test_sample', test, annotations_test)"
   ]
  },
  {
   "cell_type": "code",
   "execution_count": 10,
   "metadata": {},
   "outputs": [],
   "source": [
    "from collections import Counter"
   ]
  },
  {
   "cell_type": "code",
   "execution_count": 15,
   "metadata": {},
   "outputs": [],
   "source": [
    "\n",
    "alphabhet = ''.join(np.unique(list(''.join(list(Counter(annotations_train).keys()) + list(Counter(annotations_test).keys())))))"
   ]
  },
  {
   "cell_type": "code",
   "execution_count": 16,
   "metadata": {},
   "outputs": [
    {
     "data": {
      "text/plain": [
       "'!\"#$%\\'()*+,-./0123456789:;<=>?@ABCDEFGHIJKLMNOPQRSTUVWXYZ[\\\\]_`abcdefghijklmnopqrstuvwxyz|~\\xa0«\\xad°º»ÄÇ×ÙàáâãçèéêíñòóõöøúüÿāăČđēėęěğīİıķŝşšŧŭųŷžəʀʌʏ́̆ΒΗΚΜΞΠΡΦίαβγδεικλνοςτωϋЁЄІАБВГДЕЖЗИЙКЛМНОПРСТУФХЦЧШЩЪЫЬЭЮЯабвгдежзийклмнопрстуфхцчшщъыьэюяёєіѢѣҕүҺҽҿӃәӥөԱՊՍաեըթժիլհղմնոպտւօאבדהוזטיךכלםמןנסעףפצקרשת،ابةتحخدذرزسشضعغفكلمنهوىيژکگڵیൣงนพลอืเ้აბგდევთილმნოპრსტუფღყჩცხᅠዙᴀᴇᴋᴏᴘᴜẏạẦắếềệốờừữ\\u200b\\u200c–—―‘’“”„•‣…※⁰⁴⁺€₽⃣№℮ℴ≥②╎►★☆☉☛♡✎✓✦➤⠀。《》「」あいうえかきくげこしすせそたつてでとなにねのはぶまめもゆよらりるれをんゥトブム・ー上下信傘充報填夜季射度待情敵日明昼月本温爪物私箭節素聞見配雨音顔鼻고기김남는다라랑리면명모바보사선스없여이있져주지진크하해️１２３４５６７８９＜＞￼𖢲𝕮𝖆𝖈𝖓𝖔𝖙🇦🇧🇬🇷🇺🇾\\U0001f970\\U0001f976\\U0001f9a0\\U0001f9b7\\U0001f9ec\\U0001f9f4'"
      ]
     },
     "execution_count": 16,
     "metadata": {},
     "output_type": "execute_result"
    }
   ],
   "source": [
    "alphabhet"
   ]
  },
  {
   "cell_type": "code",
   "execution_count": null,
   "metadata": {},
   "outputs": [],
   "source": []
  }
 ],
 "metadata": {
  "kernelspec": {
   "display_name": "Python 3",
   "language": "python",
   "name": "python3"
  },
  "language_info": {
   "codemirror_mode": {
    "name": "ipython",
    "version": 3
   },
   "file_extension": ".py",
   "mimetype": "text/x-python",
   "name": "python",
   "nbconvert_exporter": "python",
   "pygments_lexer": "ipython3",
   "version": "3.6.8"
  }
 },
 "nbformat": 4,
 "nbformat_minor": 2
}
